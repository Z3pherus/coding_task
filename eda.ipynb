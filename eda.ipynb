{
 "cells": [
  {
   "cell_type": "code",
   "execution_count": null,
   "id": "ef8ef9a0-1348-4cef-929e-9cd4a3bec23c",
   "metadata": {},
   "outputs": [],
   "source": [
    "%matplotlib inline\n",
    "\n",
    "from collections import Counter\n",
    "from itertools import combinations\n",
    "import matplotlib.pyplot as plt\n",
    "import pandas as pd\n",
    "import re\n",
    "from tqdm import tqdm\n",
    "from wordcloud import WordCloud"
   ]
  },
  {
   "cell_type": "code",
   "execution_count": null,
   "id": "752dca94-767e-47b0-aab9-b1ded973bc9c",
   "metadata": {},
   "outputs": [],
   "source": [
    "tqdm.pandas()"
   ]
  },
  {
   "cell_type": "markdown",
   "id": "e5a97235-910b-4410-842d-32448c4fc7ba",
   "metadata": {},
   "source": [
    "# Explanatory data analysis of tags.csv"
   ]
  },
  {
   "cell_type": "code",
   "execution_count": null,
   "id": "2a77bc7a-b02e-4453-9352-554094db36ed",
   "metadata": {},
   "outputs": [],
   "source": [
    "df_tags = pd.read_csv(\"data/tags.csv\", encoding=\"ISO-8859-1\")"
   ]
  },
  {
   "cell_type": "code",
   "execution_count": null,
   "id": "07110274-faf9-417c-a4ef-7a867639b8c2",
   "metadata": {},
   "outputs": [],
   "source": [
    "# Count number of rows (1.9 million)\n",
    "len(df_tags.index)"
   ]
  },
  {
   "cell_type": "code",
   "execution_count": null,
   "id": "05032521-cee7-4545-9793-242c01c221c8",
   "metadata": {},
   "outputs": [],
   "source": [
    "# First rows\n",
    "df_tags.head(20)"
   ]
  },
  {
   "cell_type": "code",
   "execution_count": null,
   "id": "4fdba963-e3fb-442a-b565-a42360216225",
   "metadata": {},
   "outputs": [],
   "source": [
    "# Last rows\n",
    "df_tags.tail(20)"
   ]
  },
  {
   "cell_type": "code",
   "execution_count": null,
   "id": "2a5a6686-3c7c-4115-89c0-e725ea6ac332",
   "metadata": {},
   "outputs": [],
   "source": [
    "# Count different IDs (607k)\n",
    "df_tags[\"Id\"].nunique()"
   ]
  },
  {
   "cell_type": "code",
   "execution_count": null,
   "id": "47238b47-275c-4865-9de1-23d8a3a4f0d0",
   "metadata": {},
   "outputs": [],
   "source": [
    "# Count different tags (17k)\n",
    "df_tags[\"Tag\"].nunique()"
   ]
  },
  {
   "cell_type": "code",
   "execution_count": null,
   "id": "c719fe1a-8eca-4591-acbb-ae7da3a060e8",
   "metadata": {},
   "outputs": [],
   "source": [
    "tag_counts = df_tags[\"Tag\"].value_counts()"
   ]
  },
  {
   "cell_type": "code",
   "execution_count": null,
   "id": "d999e6c8-cef8-466f-8646-c8323a1e936a",
   "metadata": {},
   "outputs": [],
   "source": [
    "# Most common tags (many python related tags)\n",
    "tag_counts.head(20)"
   ]
  },
  {
   "cell_type": "code",
   "execution_count": null,
   "id": "a38a22d3-6621-4b1d-a6cf-f89d7916602d",
   "metadata": {},
   "outputs": [],
   "source": [
    "# Least common tags (many tags occur only once)\n",
    "tag_counts.tail(20)"
   ]
  },
  {
   "cell_type": "code",
   "execution_count": null,
   "id": "1a702407-bf3b-4f00-ad53-6c6c4058ff42",
   "metadata": {},
   "outputs": [],
   "source": [
    "# Count number of tags per ID\n",
    "tags_per_id = df_tags.groupby(\"Id\").size()"
   ]
  },
  {
   "cell_type": "code",
   "execution_count": null,
   "id": "ee192218-180c-40f6-be7b-91346c56b024",
   "metadata": {},
   "outputs": [],
   "source": [
    "# Plot distribution\n",
    "plt.figure(figsize=(10, 6))\n",
    "plt.hist(tags_per_id, bins=50)\n",
    "plt.xlabel(\"Number of Tags\")\n",
    "plt.ylabel(\"Number of occurences\")\n",
    "plt.show()"
   ]
  },
  {
   "cell_type": "code",
   "execution_count": null,
   "id": "04535ebf-87dd-45f7-8ccb-b5f58f6ff331",
   "metadata": {},
   "outputs": [],
   "source": [
    "# Get average number of tags per ID (3.1)\n",
    "tags_per_id.mean()"
   ]
  },
  {
   "cell_type": "code",
   "execution_count": null,
   "id": "5a6edb0c-99ce-4705-add2-4f38113de4bc",
   "metadata": {},
   "outputs": [],
   "source": [
    "# Get maximum number of tags per ID (5)\n",
    "tags_per_id.max()"
   ]
  },
  {
   "cell_type": "code",
   "execution_count": null,
   "id": "6f537cb8-001d-4b86-b0b0-986ddcaa6dd5",
   "metadata": {},
   "outputs": [],
   "source": [
    "# Function to calculate tag co-occurrence using the Counter class\n",
    "def calculate_cooccurrence(dataframe: pd.DataFrame) -> Counter:\n",
    "    cooccurrence = Counter()\n",
    "    for tags in dataframe.groupby(\"Id\")[\"Tag\"]:\n",
    "        for tag_pair in combinations(tags[1], 2):\n",
    "            cooccurrence[tag_pair] += 1\n",
    "    return cooccurrence"
   ]
  },
  {
   "cell_type": "code",
   "execution_count": null,
   "id": "dafcf762-4190-437e-8139-7df4beb966c9",
   "metadata": {},
   "outputs": [],
   "source": [
    "# Calculate tag co-occurrence\n",
    "tag_cooccurrence = calculate_cooccurrence(df_tags).most_common()"
   ]
  },
  {
   "cell_type": "code",
   "execution_count": null,
   "id": "0ba79222-1367-4c47-b746-ba3b1f1ed786",
   "metadata": {},
   "outputs": [],
   "source": [
    "# Get the most common co-occurring tag pairs\n",
    "tag_cooccurrence[0:20]"
   ]
  },
  {
   "cell_type": "code",
   "execution_count": null,
   "id": "4475c37b-eb04-4e1b-83d8-698e0677d4d7",
   "metadata": {},
   "outputs": [],
   "source": [
    "# Get the least common co-occurring tag pairs\n",
    "tag_cooccurrence[-20:]"
   ]
  },
  {
   "cell_type": "markdown",
   "id": "682e405d-0565-421e-9f1f-b9ec57139b9a",
   "metadata": {},
   "source": [
    "# Explanatory data analysis of questions.csv"
   ]
  },
  {
   "cell_type": "code",
   "execution_count": null,
   "id": "9bdaa8e4-8557-4951-8118-4c9ecc0b669f",
   "metadata": {},
   "outputs": [],
   "source": [
    "df_quest = pd.read_csv(\"data/questions.csv\", encoding=\"ISO-8859-1\")"
   ]
  },
  {
   "cell_type": "code",
   "execution_count": null,
   "id": "7b706f39-64c0-41ba-86fa-cf841d7d3c46",
   "metadata": {},
   "outputs": [],
   "source": [
    "# Count number of rows (607k, should be indentical to the number of IDs in tags.csv)\n",
    "len(df_quest.index)"
   ]
  },
  {
   "cell_type": "code",
   "execution_count": null,
   "id": "4989d6ab-1da2-470a-a959-6fbf166acba1",
   "metadata": {},
   "outputs": [],
   "source": [
    "# First rows\n",
    "df_quest.head(20)"
   ]
  },
  {
   "cell_type": "code",
   "execution_count": null,
   "id": "790ebf87-3e2b-489a-8691-00fa7fe1d03a",
   "metadata": {},
   "outputs": [],
   "source": [
    "# Last rows\n",
    "df_quest.tail(20)"
   ]
  },
  {
   "cell_type": "code",
   "execution_count": null,
   "id": "ea9fd4c8-7f37-41c9-bd0a-eeb35d05ebee",
   "metadata": {},
   "outputs": [],
   "source": [
    "df_quest[\"CreationDate\"].min()"
   ]
  },
  {
   "cell_type": "code",
   "execution_count": null,
   "id": "ad5e4373-4823-45d8-a981-ee2ee9b045e5",
   "metadata": {},
   "outputs": [],
   "source": [
    "df_quest[\"CreationDate\"].max()"
   ]
  },
  {
   "cell_type": "markdown",
   "id": "47eed0c6-1e1a-4b05-bee2-30ca8092ac13",
   "metadata": {},
   "source": [
    "**Since the task is to train a NLP model which predicts the tags of questions and due to the time constraints, i will do a EDA only for the columns Title and Body**"
   ]
  },
  {
   "cell_type": "code",
   "execution_count": null,
   "id": "0b80b15e-71bf-405a-a157-9048ca28c16b",
   "metadata": {},
   "outputs": [],
   "source": [
    "pd.set_option(\"display.max_colwidth\", None)"
   ]
  },
  {
   "cell_type": "code",
   "execution_count": null,
   "id": "5ea80425-abb3-46fc-8d00-b2a17314bff0",
   "metadata": {},
   "outputs": [],
   "source": [
    "df_quest[\"Title\"][0:20]"
   ]
  },
  {
   "cell_type": "code",
   "execution_count": null,
   "id": "7524e36d-6b54-4de1-a0f3-445ebf79016d",
   "metadata": {},
   "outputs": [],
   "source": [
    "df_quest[\"Body\"][0:20]"
   ]
  },
  {
   "cell_type": "markdown",
   "id": "b1e15a9e-0f26-4a1c-b7b7-9b5c77fd3165",
   "metadata": {},
   "source": [
    "Looking at the examples there are some findings:\n",
    "- There are many HTML tags which are irrelevant for the classification task\n",
    "- In addition, there are also many newline and carriage return characters that can be removed\n",
    "- The chars < and > occur in some source codes and are decoded\n",
    "- One could think about removing special characters and numbers"
   ]
  },
  {
   "cell_type": "code",
   "execution_count": null,
   "id": "26a71005-0082-4808-b75e-aca79b2b2a33",
   "metadata": {},
   "outputs": [],
   "source": [
    "# Basic preprocessing of the text columns\n",
    "def preprocess_text(text: str) -> str:\n",
    "    # Remove HTML tags\n",
    "    text = re.sub(r\"<.*?>\", \"\", text)\n",
    "\n",
    "    # Replace \\n and \\r with a whitespace\n",
    "    text = text.replace(\"\\n\", \" \").replace(\"\\r\", \" \")\n",
    "\n",
    "    # Decode &lt; and &gt;\n",
    "    text = text.replace(\"&lt;\", \"<\").replace(\"&gt;\", \">\")\n",
    "\n",
    "    # Remove multiple whitespaces with single whitespace\n",
    "    text = re.sub(r\"\\s+\", \" \", text).strip()\n",
    "\n",
    "    # Lowercase text\n",
    "    text = text.lower()\n",
    "\n",
    "    return text"
   ]
  },
  {
   "cell_type": "code",
   "execution_count": null,
   "id": "26f55597-b9ca-493a-9efd-c55e62c882c3",
   "metadata": {},
   "outputs": [],
   "source": [
    "df_quest[\"Title_Clean\"] = df_quest[\"Title\"].progress_apply(preprocess_text)"
   ]
  },
  {
   "cell_type": "code",
   "execution_count": null,
   "id": "0c018969-8ae5-40a9-9611-bdfc8c64dd37",
   "metadata": {},
   "outputs": [],
   "source": [
    "df_quest[\"Body_Clean\"] = df_quest[\"Body\"].progress_apply(preprocess_text)"
   ]
  },
  {
   "cell_type": "code",
   "execution_count": null,
   "id": "420a45f6-ef7f-4b42-99bc-8a6d543cb19b",
   "metadata": {},
   "outputs": [],
   "source": [
    "df_quest[\"Title_Clean\"][0:20]"
   ]
  },
  {
   "cell_type": "code",
   "execution_count": null,
   "id": "253fa2aa-3e89-4309-a973-3b67bd9d8c43",
   "metadata": {},
   "outputs": [],
   "source": [
    "df_quest[\"Body_Clean\"][0:20]"
   ]
  },
  {
   "cell_type": "code",
   "execution_count": null,
   "id": "703b7e26-11d2-43fa-aff0-0dc6b3e0b489",
   "metadata": {},
   "outputs": [],
   "source": [
    "df_quest[\"Body_Clean\"][-20:]"
   ]
  },
  {
   "cell_type": "code",
   "execution_count": null,
   "id": "5cfc5b60-acd0-47c9-a8dd-c0796725331b",
   "metadata": {},
   "outputs": [],
   "source": [
    "# Calculating length and word count\n",
    "df_quest[\"Title_length\"] = df_quest[\"Title\"].apply(len)\n",
    "df_quest[\"Body_length\"] = df_quest[\"Body\"].apply(len)\n",
    "df_quest[\"Title_word_count\"] = df_quest[\"Title\"].apply(lambda x: len(x.split()))\n",
    "df_quest[\"Body_word_count\"] = df_quest[\"Body\"].apply(lambda x: len(x.split()))"
   ]
  },
  {
   "cell_type": "code",
   "execution_count": null,
   "id": "2c14a287-bfa8-441f-89f1-1e1c19da2729",
   "metadata": {},
   "outputs": [],
   "source": [
    "# Plotting\n",
    "fig, axes = plt.subplots(2, 2, figsize=(12, 8))\n",
    "\n",
    "# Length Distributions\n",
    "axes[0, 0].hist(df_quest[\"Title_length\"], bins=30, color='blue', alpha=0.7)\n",
    "axes[0, 0].set_title('Title Length Distribution')\n",
    "\n",
    "axes[0, 1].hist(df_quest[\"Body_length\"], bins=30, color='green', alpha=0.7, log=True)\n",
    "axes[0, 1].set_title('Body Length Distribution')\n",
    "\n",
    "# Word Count Distributions\n",
    "axes[1, 0].hist(df_quest[\"Title_word_count\"], bins=30, color='red', alpha=0.7)\n",
    "axes[1, 0].set_title('Title Word Count Distribution')\n",
    "\n",
    "axes[1, 1].hist(df_quest[\"Body_word_count\"], bins=30, color='orange', alpha=0.7, log=True)\n",
    "axes[1, 1].set_title('Body Word Count Distribution')\n",
    "\n",
    "plt.tight_layout()\n",
    "plt.show()"
   ]
  },
  {
   "cell_type": "code",
   "execution_count": null,
   "id": "2cc6783e-32ea-4061-ac30-8c77c32fbcd2",
   "metadata": {},
   "outputs": [],
   "source": [
    "# Generate word cloud for Title column\n",
    "wordcloud_title = WordCloud(width = 800, height = 800, background_color ='white', max_words=200).generate(\" \".join(df_quest['Title_Clean']))"
   ]
  },
  {
   "cell_type": "code",
   "execution_count": null,
   "id": "3042990a-f78d-4fe1-94d5-738d71500843",
   "metadata": {},
   "outputs": [],
   "source": [
    "plt.figure(figsize=(10, 10))\n",
    "plt.imshow(wordcloud_title, interpolation='bilinear')\n",
    "plt.axis('off')\n",
    "plt.title('Word Cloud for Title')\n",
    "plt.show()"
   ]
  }
 ],
 "metadata": {
  "kernelspec": {
   "display_name": "Python 3 (ipykernel)",
   "language": "python",
   "name": "python3"
  },
  "language_info": {
   "codemirror_mode": {
    "name": "ipython",
    "version": 3
   },
   "file_extension": ".py",
   "mimetype": "text/x-python",
   "name": "python",
   "nbconvert_exporter": "python",
   "pygments_lexer": "ipython3",
   "version": "3.10.13"
  }
 },
 "nbformat": 4,
 "nbformat_minor": 5
}
